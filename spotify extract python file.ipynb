{
 "cells": [
  {
   "cell_type": "code",
   "execution_count": null,
   "id": "14a7cf1d",
   "metadata": {},
   "outputs": [],
   "source": [
    "!pip install spotipy"
   ]
  },
  {
   "cell_type": "code",
   "execution_count": null,
   "id": "36c80ced",
   "metadata": {
    "tags": []
   },
   "outputs": [],
   "source": [
    "import spotipy\n",
    "from spotipy.oauth2 import SpotifyClientCredentials\n",
    "import pandas as pd"
   ]
  },
  {
   "cell_type": "code",
   "execution_count": null,
   "id": "24e06a56",
   "metadata": {
    "tags": []
   },
   "outputs": [],
   "source": [
    "#add your keys here\n",
    "client_credentials_manager = SpotifyClientCredentials(client_id=\"539eecd3bf3d49539fec6bad723e2192\", client_secret=\"130c2f11e00244c999782c5366020ef4\")\n"
   ]
  },
  {
   "cell_type": "code",
   "execution_count": null,
   "id": "2d4ba23f",
   "metadata": {
    "tags": []
   },
   "outputs": [],
   "source": [
    "sp = spotipy.Spotify(client_credentials_manager = client_credentials_manager)"
   ]
  },
  {
   "cell_type": "code",
   "execution_count": null,
   "id": "51bd1ded",
   "metadata": {
    "tags": []
   },
   "outputs": [],
   "source": [
    "playlist_link = \"https://open.spotify.com/playlist/4zzUm9eZmeb4t4nUCaNoo5\""
   ]
  },
  {
   "cell_type": "code",
   "execution_count": null,
   "id": "da4122d0-f91f-4783-8a10-d8bc2163356a",
   "metadata": {
    "tags": []
   },
   "outputs": [],
   "source": [
    "k=sp.playlist_tracks(playlist_link)"
   ]
  },
  {
   "cell_type": "code",
   "execution_count": null,
   "id": "cdbd2a2c-a60e-4b58-a461-0973953bda7b",
   "metadata": {
    "tags": []
   },
   "outputs": [],
   "source": [
    "k['items'][0]"
   ]
  },
  {
   "cell_type": "code",
   "execution_count": null,
   "id": "0f122fea",
   "metadata": {
    "tags": []
   },
   "outputs": [],
   "source": [
    "playlist_URI = playlist_link.split(\"/\")[-1].split('?')[0]"
   ]
  },
  {
   "cell_type": "code",
   "execution_count": null,
   "id": "30a4d454-abd3-4487-b51d-bbe616812ee5",
   "metadata": {
    "tags": []
   },
   "outputs": [],
   "source": [
    "playlist_URI"
   ]
  },
  {
   "cell_type": "code",
   "execution_count": null,
   "id": "9929e020",
   "metadata": {
    "tags": []
   },
   "outputs": [],
   "source": [
    "data = sp.playlist_tracks(playlist_URI)"
   ]
  },
  {
   "cell_type": "code",
   "execution_count": null,
   "id": "ef389262",
   "metadata": {
    "tags": []
   },
   "outputs": [],
   "source": [
    "data['items']"
   ]
  },
  {
   "cell_type": "code",
   "execution_count": null,
   "id": "6f02d80e",
   "metadata": {
    "tags": []
   },
   "outputs": [],
   "source": [
    "data['items'][0]['track']['album']['id']"
   ]
  },
  {
   "cell_type": "code",
   "execution_count": null,
   "id": "e86ce179",
   "metadata": {
    "tags": []
   },
   "outputs": [],
   "source": [
    "data['items'][0]['track']['album']['name']"
   ]
  },
  {
   "cell_type": "code",
   "execution_count": null,
   "id": "2c8b8f00",
   "metadata": {
    "tags": []
   },
   "outputs": [],
   "source": [
    "data['items'][0]['track']['album']['release_date']"
   ]
  },
  {
   "cell_type": "code",
   "execution_count": null,
   "id": "95582107",
   "metadata": {
    "tags": []
   },
   "outputs": [],
   "source": [
    "data['items'][0]['track']['album']['total_tracks']"
   ]
  },
  {
   "cell_type": "code",
   "execution_count": null,
   "id": "dbdb90fe",
   "metadata": {
    "tags": []
   },
   "outputs": [],
   "source": [
    "data['items'][0]['track']['album']['external_urls']['spotify']"
   ]
  },
  {
   "cell_type": "code",
   "execution_count": null,
   "id": "0279091e",
   "metadata": {
    "tags": []
   },
   "outputs": [],
   "source": [
    "album_list = []\n",
    "for row in data['items']:\n",
    "    album_id = row['track']['album']['id']\n",
    "    album_name = row['track']['album']['name']\n",
    "    album_release_date = row['track']['album']['release_date']\n",
    "    album_total_tracks = row['track']['album']['total_tracks']\n",
    "    album_url = row['track']['album']['external_urls']['spotify']\n",
    "    album_element = {'album_id':album_id,'name':album_name,'release_date':album_release_date,\n",
    "                        'total_tracks':album_total_tracks,'url':album_url}\n",
    "    album_list.append(album_element)"
   ]
  },
  {
   "cell_type": "code",
   "execution_count": null,
   "id": "d8a586a6",
   "metadata": {
    "tags": []
   },
   "outputs": [],
   "source": [
    "album_list"
   ]
  },
  {
   "cell_type": "code",
   "execution_count": null,
   "id": "3549c060",
   "metadata": {
    "scrolled": true,
    "tags": []
   },
   "outputs": [],
   "source": [
    "data['items'][0]"
   ]
  },
  {
   "cell_type": "code",
   "execution_count": null,
   "id": "33a35eae",
   "metadata": {
    "tags": []
   },
   "outputs": [],
   "source": [
    "artist_list = []\n",
    "for row in data['items']:\n",
    "    for key, value in row.items():\n",
    "        if key == \"track\":\n",
    "            for artist in value['artists']:\n",
    "                artist_dict = {'artist_id':artist['id'], 'artist_name':artist['name'], 'external_url': artist['href']}\n",
    "                artist_list.append(artist_dict)"
   ]
  },
  {
   "cell_type": "code",
   "execution_count": null,
   "id": "6f944126",
   "metadata": {
    "tags": []
   },
   "outputs": [],
   "source": [
    "artist_list"
   ]
  },
  {
   "cell_type": "code",
   "execution_count": null,
   "id": "0b7e5d0a",
   "metadata": {
    "tags": []
   },
   "outputs": [],
   "source": [
    "song_list = []\n",
    "for row in data['items']:\n",
    "    song_id = row['track']['id']\n",
    "    song_name = row['track']['name']\n",
    "    song_duration = row['track']['duration_ms']\n",
    "    song_url = row['track']['external_urls']['spotify']\n",
    "    song_popularity = row['track']['popularity']\n",
    "    song_added = row['added_at']\n",
    "    album_id = row['track']['album']['id']\n",
    "    artist_id = row['track']['album']['artists'][0]['id']\n",
    "    song_element = {'song_id':song_id,'song_name':song_name,'duration_ms':song_duration,'url':song_url,\n",
    "                    'popularity':song_popularity,'song_added':song_added,'album_id':album_id,\n",
    "                    'artist_id':artist_id\n",
    "                   }\n",
    "    song_list.append(song_element)"
   ]
  },
  {
   "cell_type": "code",
   "execution_count": null,
   "id": "d1e19ac2",
   "metadata": {
    "tags": []
   },
   "outputs": [],
   "source": [
    "album_df = pd.DataFrame.from_dict(album_list)"
   ]
  },
  {
   "cell_type": "code",
   "execution_count": null,
   "id": "d05aa5f9",
   "metadata": {
    "tags": []
   },
   "outputs": [],
   "source": [
    "album_df.head()"
   ]
  },
  {
   "cell_type": "code",
   "execution_count": null,
   "id": "ede8bc2f",
   "metadata": {
    "tags": []
   },
   "outputs": [],
   "source": [
    "album_df.info()"
   ]
  },
  {
   "cell_type": "code",
   "execution_count": null,
   "id": "e83f9c61",
   "metadata": {
    "tags": []
   },
   "outputs": [],
   "source": [
    "album_df = album_df.drop_duplicates(subset=['album_id'])"
   ]
  },
  {
   "cell_type": "code",
   "execution_count": null,
   "id": "ced1ed61",
   "metadata": {
    "tags": []
   },
   "outputs": [],
   "source": [
    "artist_df = pd.DataFrame.from_dict(artist_list)"
   ]
  },
  {
   "cell_type": "code",
   "execution_count": null,
   "id": "da7951b0",
   "metadata": {
    "tags": []
   },
   "outputs": [],
   "source": [
    "artist_df = artist_df.drop_duplicates(subset=['artist_id'])"
   ]
  },
  {
   "cell_type": "code",
   "execution_count": null,
   "id": "70589198",
   "metadata": {
    "tags": []
   },
   "outputs": [],
   "source": [
    "#Song Dataframe\n",
    "song_df = pd.DataFrame.from_dict(song_list)"
   ]
  },
  {
   "cell_type": "code",
   "execution_count": null,
   "id": "99c1281c",
   "metadata": {
    "tags": []
   },
   "outputs": [],
   "source": [
    "song_df.head()"
   ]
  },
  {
   "cell_type": "code",
   "execution_count": null,
   "id": "a0ce928c",
   "metadata": {
    "tags": []
   },
   "outputs": [],
   "source": [
    "artist_df.head()"
   ]
  },
  {
   "cell_type": "code",
   "execution_count": null,
   "id": "11615bcd",
   "metadata": {
    "tags": []
   },
   "outputs": [],
   "source": [
    "album_df.head()"
   ]
  },
  {
   "cell_type": "code",
   "execution_count": null,
   "id": "26f6f2bc",
   "metadata": {
    "tags": []
   },
   "outputs": [],
   "source": [
    "album_df['release_date'] = pd.to_datetime(album_df['release_date'])"
   ]
  },
  {
   "cell_type": "code",
   "execution_count": null,
   "id": "f424b92b",
   "metadata": {
    "tags": []
   },
   "outputs": [],
   "source": [
    "song_df['song_added'] =  pd.to_datetime(song_df['song_added'])"
   ]
  },
  {
   "cell_type": "code",
   "execution_count": null,
   "id": "a0fc699e",
   "metadata": {
    "tags": []
   },
   "outputs": [],
   "source": [
    "song_df.info()"
   ]
  },
  {
   "cell_type": "code",
   "execution_count": null,
   "id": "1e471a69",
   "metadata": {},
   "outputs": [],
   "source": []
  }
 ],
 "metadata": {
  "kernelspec": {
   "display_name": "Python 3 (ipykernel)",
   "language": "python",
   "name": "python3"
  },
  "language_info": {
   "codemirror_mode": {
    "name": "ipython",
    "version": 3
   },
   "file_extension": ".py",
   "mimetype": "text/x-python",
   "name": "python",
   "nbconvert_exporter": "python",
   "pygments_lexer": "ipython3",
   "version": "3.11.4"
  }
 },
 "nbformat": 4,
 "nbformat_minor": 5
}
